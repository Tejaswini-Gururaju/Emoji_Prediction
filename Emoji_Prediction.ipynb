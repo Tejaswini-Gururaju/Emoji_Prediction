{
  "nbformat": 4,
  "nbformat_minor": 0,
  "metadata": {
    "colab": {
      "provenance": []
    },
    "kernelspec": {
      "name": "python3",
      "display_name": "Python 3"
    },
    "language_info": {
      "name": "python"
    }
  },
  "cells": [
    {
      "cell_type": "markdown",
      "source": [
        "Importing the required libraries"
      ],
      "metadata": {
        "id": "W_aDKeLjFYZj"
      }
    },
    {
      "cell_type": "code",
      "execution_count": 100,
      "metadata": {
        "id": "YHREjAmAugXG"
      },
      "outputs": [],
      "source": [
        "import pandas as pd\n",
        "import numpy as np\n",
        "from keras.models import Sequential\n",
        "from keras.layers import Dense, LSTM, SimpleRNN,Embedding\n",
        "from keras.preprocessing.text import Tokenizer\n",
        "from keras.preprocessing.sequence import pad_sequences\n",
        "from tensorflow.keras.utils import to_categorical"
      ]
    },
    {
      "cell_type": "markdown",
      "source": [
        "Loading a simple dataset"
      ],
      "metadata": {
        "id": "ykgCR0FTFfel"
      }
    },
    {
      "cell_type": "code",
      "source": [
        "data = pd.read_csv(\"/content/Emoji_data.csv\",header=None)\n",
        "data"
      ],
      "metadata": {
        "colab": {
          "base_uri": "https://localhost:8080/",
          "height": 423
        },
        "id": "3sJxWsjkrN2c",
        "outputId": "ab1965cc-f079-4018-aebd-0b745f4c5403"
      },
      "execution_count": 76,
      "outputs": [
        {
          "output_type": "execute_result",
          "data": {
            "text/plain": [
              "                               0   1\n",
              "0    French macaroon is so tasty   4\n",
              "1               work is horrible   3\n",
              "2                     I am upset  3 \n",
              "3                 throw the ball  1 \n",
              "4                      Good joke   2\n",
              "..                           ...  ..\n",
              "178         lets brunch some day   4\n",
              "179                dance with me   2\n",
              "180               she is a bully   3\n",
              "181           she plays baseball   1\n",
              "182  I like it when people smile   2\n",
              "\n",
              "[183 rows x 2 columns]"
            ],
            "text/html": [
              "\n",
              "  <div id=\"df-e1bd8f95-9bf5-4d03-b310-597d9ca9e23e\" class=\"colab-df-container\">\n",
              "    <div>\n",
              "<style scoped>\n",
              "    .dataframe tbody tr th:only-of-type {\n",
              "        vertical-align: middle;\n",
              "    }\n",
              "\n",
              "    .dataframe tbody tr th {\n",
              "        vertical-align: top;\n",
              "    }\n",
              "\n",
              "    .dataframe thead th {\n",
              "        text-align: right;\n",
              "    }\n",
              "</style>\n",
              "<table border=\"1\" class=\"dataframe\">\n",
              "  <thead>\n",
              "    <tr style=\"text-align: right;\">\n",
              "      <th></th>\n",
              "      <th>0</th>\n",
              "      <th>1</th>\n",
              "    </tr>\n",
              "  </thead>\n",
              "  <tbody>\n",
              "    <tr>\n",
              "      <th>0</th>\n",
              "      <td>French macaroon is so tasty</td>\n",
              "      <td>4</td>\n",
              "    </tr>\n",
              "    <tr>\n",
              "      <th>1</th>\n",
              "      <td>work is horrible</td>\n",
              "      <td>3</td>\n",
              "    </tr>\n",
              "    <tr>\n",
              "      <th>2</th>\n",
              "      <td>I am upset</td>\n",
              "      <td>3</td>\n",
              "    </tr>\n",
              "    <tr>\n",
              "      <th>3</th>\n",
              "      <td>throw the ball</td>\n",
              "      <td>1</td>\n",
              "    </tr>\n",
              "    <tr>\n",
              "      <th>4</th>\n",
              "      <td>Good joke</td>\n",
              "      <td>2</td>\n",
              "    </tr>\n",
              "    <tr>\n",
              "      <th>...</th>\n",
              "      <td>...</td>\n",
              "      <td>...</td>\n",
              "    </tr>\n",
              "    <tr>\n",
              "      <th>178</th>\n",
              "      <td>lets brunch some day</td>\n",
              "      <td>4</td>\n",
              "    </tr>\n",
              "    <tr>\n",
              "      <th>179</th>\n",
              "      <td>dance with me</td>\n",
              "      <td>2</td>\n",
              "    </tr>\n",
              "    <tr>\n",
              "      <th>180</th>\n",
              "      <td>she is a bully</td>\n",
              "      <td>3</td>\n",
              "    </tr>\n",
              "    <tr>\n",
              "      <th>181</th>\n",
              "      <td>she plays baseball</td>\n",
              "      <td>1</td>\n",
              "    </tr>\n",
              "    <tr>\n",
              "      <th>182</th>\n",
              "      <td>I like it when people smile</td>\n",
              "      <td>2</td>\n",
              "    </tr>\n",
              "  </tbody>\n",
              "</table>\n",
              "<p>183 rows × 2 columns</p>\n",
              "</div>\n",
              "    <div class=\"colab-df-buttons\">\n",
              "\n",
              "  <div class=\"colab-df-container\">\n",
              "    <button class=\"colab-df-convert\" onclick=\"convertToInteractive('df-e1bd8f95-9bf5-4d03-b310-597d9ca9e23e')\"\n",
              "            title=\"Convert this dataframe to an interactive table.\"\n",
              "            style=\"display:none;\">\n",
              "\n",
              "  <svg xmlns=\"http://www.w3.org/2000/svg\" height=\"24px\" viewBox=\"0 -960 960 960\">\n",
              "    <path d=\"M120-120v-720h720v720H120Zm60-500h600v-160H180v160Zm220 220h160v-160H400v160Zm0 220h160v-160H400v160ZM180-400h160v-160H180v160Zm440 0h160v-160H620v160ZM180-180h160v-160H180v160Zm440 0h160v-160H620v160Z\"/>\n",
              "  </svg>\n",
              "    </button>\n",
              "\n",
              "  <style>\n",
              "    .colab-df-container {\n",
              "      display:flex;\n",
              "      gap: 12px;\n",
              "    }\n",
              "\n",
              "    .colab-df-convert {\n",
              "      background-color: #E8F0FE;\n",
              "      border: none;\n",
              "      border-radius: 50%;\n",
              "      cursor: pointer;\n",
              "      display: none;\n",
              "      fill: #1967D2;\n",
              "      height: 32px;\n",
              "      padding: 0 0 0 0;\n",
              "      width: 32px;\n",
              "    }\n",
              "\n",
              "    .colab-df-convert:hover {\n",
              "      background-color: #E2EBFA;\n",
              "      box-shadow: 0px 1px 2px rgba(60, 64, 67, 0.3), 0px 1px 3px 1px rgba(60, 64, 67, 0.15);\n",
              "      fill: #174EA6;\n",
              "    }\n",
              "\n",
              "    .colab-df-buttons div {\n",
              "      margin-bottom: 4px;\n",
              "    }\n",
              "\n",
              "    [theme=dark] .colab-df-convert {\n",
              "      background-color: #3B4455;\n",
              "      fill: #D2E3FC;\n",
              "    }\n",
              "\n",
              "    [theme=dark] .colab-df-convert:hover {\n",
              "      background-color: #434B5C;\n",
              "      box-shadow: 0px 1px 3px 1px rgba(0, 0, 0, 0.15);\n",
              "      filter: drop-shadow(0px 1px 2px rgba(0, 0, 0, 0.3));\n",
              "      fill: #FFFFFF;\n",
              "    }\n",
              "  </style>\n",
              "\n",
              "    <script>\n",
              "      const buttonEl =\n",
              "        document.querySelector('#df-e1bd8f95-9bf5-4d03-b310-597d9ca9e23e button.colab-df-convert');\n",
              "      buttonEl.style.display =\n",
              "        google.colab.kernel.accessAllowed ? 'block' : 'none';\n",
              "\n",
              "      async function convertToInteractive(key) {\n",
              "        const element = document.querySelector('#df-e1bd8f95-9bf5-4d03-b310-597d9ca9e23e');\n",
              "        const dataTable =\n",
              "          await google.colab.kernel.invokeFunction('convertToInteractive',\n",
              "                                                    [key], {});\n",
              "        if (!dataTable) return;\n",
              "\n",
              "        const docLinkHtml = 'Like what you see? Visit the ' +\n",
              "          '<a target=\"_blank\" href=https://colab.research.google.com/notebooks/data_table.ipynb>data table notebook</a>'\n",
              "          + ' to learn more about interactive tables.';\n",
              "        element.innerHTML = '';\n",
              "        dataTable['output_type'] = 'display_data';\n",
              "        await google.colab.output.renderOutput(dataTable, element);\n",
              "        const docLink = document.createElement('div');\n",
              "        docLink.innerHTML = docLinkHtml;\n",
              "        element.appendChild(docLink);\n",
              "      }\n",
              "    </script>\n",
              "  </div>\n",
              "\n",
              "\n",
              "<div id=\"df-06f874d3-d6a7-40bb-99f5-92d0d89da724\">\n",
              "  <button class=\"colab-df-quickchart\" onclick=\"quickchart('df-06f874d3-d6a7-40bb-99f5-92d0d89da724')\"\n",
              "            title=\"Suggest charts\"\n",
              "            style=\"display:none;\">\n",
              "\n",
              "<svg xmlns=\"http://www.w3.org/2000/svg\" height=\"24px\"viewBox=\"0 0 24 24\"\n",
              "     width=\"24px\">\n",
              "    <g>\n",
              "        <path d=\"M19 3H5c-1.1 0-2 .9-2 2v14c0 1.1.9 2 2 2h14c1.1 0 2-.9 2-2V5c0-1.1-.9-2-2-2zM9 17H7v-7h2v7zm4 0h-2V7h2v10zm4 0h-2v-4h2v4z\"/>\n",
              "    </g>\n",
              "</svg>\n",
              "  </button>\n",
              "\n",
              "<style>\n",
              "  .colab-df-quickchart {\n",
              "      --bg-color: #E8F0FE;\n",
              "      --fill-color: #1967D2;\n",
              "      --hover-bg-color: #E2EBFA;\n",
              "      --hover-fill-color: #174EA6;\n",
              "      --disabled-fill-color: #AAA;\n",
              "      --disabled-bg-color: #DDD;\n",
              "  }\n",
              "\n",
              "  [theme=dark] .colab-df-quickchart {\n",
              "      --bg-color: #3B4455;\n",
              "      --fill-color: #D2E3FC;\n",
              "      --hover-bg-color: #434B5C;\n",
              "      --hover-fill-color: #FFFFFF;\n",
              "      --disabled-bg-color: #3B4455;\n",
              "      --disabled-fill-color: #666;\n",
              "  }\n",
              "\n",
              "  .colab-df-quickchart {\n",
              "    background-color: var(--bg-color);\n",
              "    border: none;\n",
              "    border-radius: 50%;\n",
              "    cursor: pointer;\n",
              "    display: none;\n",
              "    fill: var(--fill-color);\n",
              "    height: 32px;\n",
              "    padding: 0;\n",
              "    width: 32px;\n",
              "  }\n",
              "\n",
              "  .colab-df-quickchart:hover {\n",
              "    background-color: var(--hover-bg-color);\n",
              "    box-shadow: 0 1px 2px rgba(60, 64, 67, 0.3), 0 1px 3px 1px rgba(60, 64, 67, 0.15);\n",
              "    fill: var(--button-hover-fill-color);\n",
              "  }\n",
              "\n",
              "  .colab-df-quickchart-complete:disabled,\n",
              "  .colab-df-quickchart-complete:disabled:hover {\n",
              "    background-color: var(--disabled-bg-color);\n",
              "    fill: var(--disabled-fill-color);\n",
              "    box-shadow: none;\n",
              "  }\n",
              "\n",
              "  .colab-df-spinner {\n",
              "    border: 2px solid var(--fill-color);\n",
              "    border-color: transparent;\n",
              "    border-bottom-color: var(--fill-color);\n",
              "    animation:\n",
              "      spin 1s steps(1) infinite;\n",
              "  }\n",
              "\n",
              "  @keyframes spin {\n",
              "    0% {\n",
              "      border-color: transparent;\n",
              "      border-bottom-color: var(--fill-color);\n",
              "      border-left-color: var(--fill-color);\n",
              "    }\n",
              "    20% {\n",
              "      border-color: transparent;\n",
              "      border-left-color: var(--fill-color);\n",
              "      border-top-color: var(--fill-color);\n",
              "    }\n",
              "    30% {\n",
              "      border-color: transparent;\n",
              "      border-left-color: var(--fill-color);\n",
              "      border-top-color: var(--fill-color);\n",
              "      border-right-color: var(--fill-color);\n",
              "    }\n",
              "    40% {\n",
              "      border-color: transparent;\n",
              "      border-right-color: var(--fill-color);\n",
              "      border-top-color: var(--fill-color);\n",
              "    }\n",
              "    60% {\n",
              "      border-color: transparent;\n",
              "      border-right-color: var(--fill-color);\n",
              "    }\n",
              "    80% {\n",
              "      border-color: transparent;\n",
              "      border-right-color: var(--fill-color);\n",
              "      border-bottom-color: var(--fill-color);\n",
              "    }\n",
              "    90% {\n",
              "      border-color: transparent;\n",
              "      border-bottom-color: var(--fill-color);\n",
              "    }\n",
              "  }\n",
              "</style>\n",
              "\n",
              "  <script>\n",
              "    async function quickchart(key) {\n",
              "      const quickchartButtonEl =\n",
              "        document.querySelector('#' + key + ' button');\n",
              "      quickchartButtonEl.disabled = true;  // To prevent multiple clicks.\n",
              "      quickchartButtonEl.classList.add('colab-df-spinner');\n",
              "      try {\n",
              "        const charts = await google.colab.kernel.invokeFunction(\n",
              "            'suggestCharts', [key], {});\n",
              "      } catch (error) {\n",
              "        console.error('Error during call to suggestCharts:', error);\n",
              "      }\n",
              "      quickchartButtonEl.classList.remove('colab-df-spinner');\n",
              "      quickchartButtonEl.classList.add('colab-df-quickchart-complete');\n",
              "    }\n",
              "    (() => {\n",
              "      let quickchartButtonEl =\n",
              "        document.querySelector('#df-06f874d3-d6a7-40bb-99f5-92d0d89da724 button');\n",
              "      quickchartButtonEl.style.display =\n",
              "        google.colab.kernel.accessAllowed ? 'block' : 'none';\n",
              "    })();\n",
              "  </script>\n",
              "</div>\n",
              "\n",
              "  <div id=\"id_e3a3ff61-6f43-421f-b288-54cdd78b8be5\">\n",
              "    <style>\n",
              "      .colab-df-generate {\n",
              "        background-color: #E8F0FE;\n",
              "        border: none;\n",
              "        border-radius: 50%;\n",
              "        cursor: pointer;\n",
              "        display: none;\n",
              "        fill: #1967D2;\n",
              "        height: 32px;\n",
              "        padding: 0 0 0 0;\n",
              "        width: 32px;\n",
              "      }\n",
              "\n",
              "      .colab-df-generate:hover {\n",
              "        background-color: #E2EBFA;\n",
              "        box-shadow: 0px 1px 2px rgba(60, 64, 67, 0.3), 0px 1px 3px 1px rgba(60, 64, 67, 0.15);\n",
              "        fill: #174EA6;\n",
              "      }\n",
              "\n",
              "      [theme=dark] .colab-df-generate {\n",
              "        background-color: #3B4455;\n",
              "        fill: #D2E3FC;\n",
              "      }\n",
              "\n",
              "      [theme=dark] .colab-df-generate:hover {\n",
              "        background-color: #434B5C;\n",
              "        box-shadow: 0px 1px 3px 1px rgba(0, 0, 0, 0.15);\n",
              "        filter: drop-shadow(0px 1px 2px rgba(0, 0, 0, 0.3));\n",
              "        fill: #FFFFFF;\n",
              "      }\n",
              "    </style>\n",
              "    <button class=\"colab-df-generate\" onclick=\"generateWithVariable('data')\"\n",
              "            title=\"Generate code using this dataframe.\"\n",
              "            style=\"display:none;\">\n",
              "\n",
              "  <svg xmlns=\"http://www.w3.org/2000/svg\" height=\"24px\"viewBox=\"0 0 24 24\"\n",
              "       width=\"24px\">\n",
              "    <path d=\"M7,19H8.4L18.45,9,17,7.55,7,17.6ZM5,21V16.75L18.45,3.32a2,2,0,0,1,2.83,0l1.4,1.43a1.91,1.91,0,0,1,.58,1.4,1.91,1.91,0,0,1-.58,1.4L9.25,21ZM18.45,9,17,7.55Zm-12,3A5.31,5.31,0,0,0,4.9,8.1,5.31,5.31,0,0,0,1,6.5,5.31,5.31,0,0,0,4.9,4.9,5.31,5.31,0,0,0,6.5,1,5.31,5.31,0,0,0,8.1,4.9,5.31,5.31,0,0,0,12,6.5,5.46,5.46,0,0,0,6.5,12Z\"/>\n",
              "  </svg>\n",
              "    </button>\n",
              "    <script>\n",
              "      (() => {\n",
              "      const buttonEl =\n",
              "        document.querySelector('#id_e3a3ff61-6f43-421f-b288-54cdd78b8be5 button.colab-df-generate');\n",
              "      buttonEl.style.display =\n",
              "        google.colab.kernel.accessAllowed ? 'block' : 'none';\n",
              "\n",
              "      buttonEl.onclick = () => {\n",
              "        google.colab.notebook.generateWithVariable('data');\n",
              "      }\n",
              "      })();\n",
              "    </script>\n",
              "  </div>\n",
              "\n",
              "    </div>\n",
              "  </div>\n"
            ],
            "application/vnd.google.colaboratory.intrinsic+json": {
              "type": "dataframe",
              "variable_name": "data",
              "summary": "{\n  \"name\": \"data\",\n  \"rows\": 183,\n  \"fields\": [\n    {\n      \"column\": 0,\n      \"properties\": {\n        \"dtype\": \"string\",\n        \"num_unique_values\": 181,\n        \"samples\": [\n          \"where is the ball\",\n          \"he is a good friend\",\n          \"go away\"\n        ],\n        \"semantic_type\": \"\",\n        \"description\": \"\"\n      }\n    },\n    {\n      \"column\": 1,\n      \"properties\": {\n        \"dtype\": \"category\",\n        \"num_unique_values\": 11,\n        \"samples\": [\n          \"1\",\n          \"4\",\n          \"0 \"\n        ],\n        \"semantic_type\": \"\",\n        \"description\": \"\"\n      }\n    }\n  ]\n}"
            }
          },
          "metadata": {},
          "execution_count": 76
        }
      ]
    },
    {
      "cell_type": "markdown",
      "source": [
        "Installing and importing the emoji library for emoji prediction"
      ],
      "metadata": {
        "id": "64LoN-GQFmS_"
      }
    },
    {
      "cell_type": "code",
      "source": [
        "!pip install emoji\n",
        "import emoji"
      ],
      "metadata": {
        "colab": {
          "base_uri": "https://localhost:8080/"
        },
        "id": "IocL99tcsGvr",
        "outputId": "65d42183-4aca-43ec-cb54-81ec68cdc60d"
      },
      "execution_count": 77,
      "outputs": [
        {
          "output_type": "stream",
          "name": "stdout",
          "text": [
            "Requirement already satisfied: emoji in /usr/local/lib/python3.10/dist-packages (2.11.0)\n"
          ]
        }
      ]
    },
    {
      "cell_type": "markdown",
      "source": [
        "Testing our library"
      ],
      "metadata": {
        "id": "2VbGqEkvFwUo"
      }
    },
    {
      "cell_type": "code",
      "source": [
        "emoji.emojize(\":thumbs_up:\")"
      ],
      "metadata": {
        "colab": {
          "base_uri": "https://localhost:8080/",
          "height": 35
        },
        "id": "mUmTx7mGskme",
        "outputId": "7f8f4927-a77b-481c-dd0d-54a54135a7d5"
      },
      "execution_count": 79,
      "outputs": [
        {
          "output_type": "execute_result",
          "data": {
            "text/plain": [
              "'👍'"
            ],
            "application/vnd.google.colaboratory.intrinsic+json": {
              "type": "string"
            }
          },
          "metadata": {},
          "execution_count": 79
        }
      ]
    },
    {
      "cell_type": "markdown",
      "source": [
        "Creating a sample dictionary with the text and a label respectively"
      ],
      "metadata": {
        "id": "qppt1P9YFzUu"
      }
    },
    {
      "cell_type": "code",
      "source": [
        "emoji_dict = {\n",
        "    0: \":red_heart:\",\n",
        "    1: \":baseball:\",\n",
        "    2: \":grinning_face_with_big_eyes:\",\n",
        "    3: \":disappointed_face:\",\n",
        "    4: \":fork_and_knife_with_plate:\"\n",
        "}\n",
        "\n",
        "emoji.emojize(emoji_dict[1])"
      ],
      "metadata": {
        "colab": {
          "base_uri": "https://localhost:8080/",
          "height": 35
        },
        "id": "Z2xUhB7YtQ-Q",
        "outputId": "7445e543-8777-483a-f627-68a3e9b7a14a"
      },
      "execution_count": 80,
      "outputs": [
        {
          "output_type": "execute_result",
          "data": {
            "text/plain": [
              "'⚾'"
            ],
            "application/vnd.google.colaboratory.intrinsic+json": {
              "type": "string"
            }
          },
          "metadata": {},
          "execution_count": 80
        }
      ]
    },
    {
      "cell_type": "markdown",
      "source": [
        "A Function to get the emoji based on the text inserted"
      ],
      "metadata": {
        "id": "9tWs6GbTGTS2"
      }
    },
    {
      "cell_type": "code",
      "source": [
        "def label_to_emoji(label):\n",
        "  return emoji.emojize(emoji_dict[label])\n",
        "\n",
        "label=label_to_emoji(3)\n",
        "label"
      ],
      "metadata": {
        "colab": {
          "base_uri": "https://localhost:8080/",
          "height": 35
        },
        "id": "psczJ-aCt996",
        "outputId": "2e845e21-6213-48ad-d212-f9117e7f34ae"
      },
      "execution_count": 81,
      "outputs": [
        {
          "output_type": "execute_result",
          "data": {
            "text/plain": [
              "'😞'"
            ],
            "application/vnd.google.colaboratory.intrinsic+json": {
              "type": "string"
            }
          },
          "metadata": {},
          "execution_count": 81
        }
      ]
    },
    {
      "cell_type": "code",
      "source": [
        "x = data[0].values # Getting the values separately from X and Y\n",
        "y = data[1].values"
      ],
      "metadata": {
        "id": "zOvxSyHfudyJ"
      },
      "execution_count": 129,
      "outputs": []
    },
    {
      "cell_type": "markdown",
      "source": [
        "Downloading and loading the GloVE 100D vector"
      ],
      "metadata": {
        "id": "fYWCJ0OyGiEc"
      }
    },
    {
      "cell_type": "code",
      "source": [
        "file=open(\"/content/glove.6B.100d.txt\",'r',encoding='utf8')\n",
        "content=file.readlines()\n",
        "file.close()"
      ],
      "metadata": {
        "id": "QX3noPxvukOw"
      },
      "execution_count": 116,
      "outputs": []
    },
    {
      "cell_type": "markdown",
      "source": [
        "Creating a dictionary with the key and value pair from the GloVE vectors"
      ],
      "metadata": {
        "id": "l2A0Oj_wGxbg"
      }
    },
    {
      "cell_type": "code",
      "source": [
        "embedding = {}\n",
        "for line in content:\n",
        "  line=line.split()\n",
        "  embedding[line[0]] = np.array(line[1:],dtype=float)"
      ],
      "metadata": {
        "id": "OOeCPj8Zvdk8"
      },
      "execution_count": 117,
      "outputs": []
    },
    {
      "cell_type": "code",
      "source": [
        "token=Tokenizer()\n",
        "token.fit_on_texts(x)\n",
        "word_index=token.word_index"
      ],
      "metadata": {
        "id": "t5Nf95zlwfwx"
      },
      "execution_count": 118,
      "outputs": []
    },
    {
      "cell_type": "code",
      "source": [
        "word_index.get(\"assignment\")"
      ],
      "metadata": {
        "colab": {
          "base_uri": "https://localhost:8080/"
        },
        "id": "BZ4a4cm_yAdh",
        "outputId": "e4450a07-7203-49b3-f2e9-91027bdf0c86"
      },
      "execution_count": 119,
      "outputs": [
        {
          "output_type": "execute_result",
          "data": {
            "text/plain": [
              "255"
            ]
          },
          "metadata": {},
          "execution_count": 119
        }
      ]
    },
    {
      "cell_type": "code",
      "source": [
        "x_tokens=token.texts_to_sequences(x)\n",
        "x_tokens"
      ],
      "metadata": {
        "colab": {
          "base_uri": "https://localhost:8080/"
        },
        "id": "Dl5m65XFymvt",
        "outputId": "cf63c9fb-7449-49c2-b056-ffd0312e20ec"
      },
      "execution_count": 120,
      "outputs": [
        {
          "output_type": "execute_result",
          "data": {
            "text/plain": [
              "[[102, 103, 3, 8, 104],\n",
              " [105, 3, 106],\n",
              " [1, 6, 107],\n",
              " [108, 4, 34],\n",
              " [35, 30],\n",
              " [36, 3, 19, 109, 26, 49],\n",
              " [1, 110, 111],\n",
              " [31, 67, 112],\n",
              " [1, 20, 113, 27],\n",
              " [114, 68, 37, 69, 26],\n",
              " [2, 11, 115, 10, 70],\n",
              " [116, 50, 71, 51],\n",
              " [35, 38],\n",
              " [12, 12, 12, 22, 28, 8, 39],\n",
              " [1, 32, 21, 5, 117, 118],\n",
              " [119, 11, 2, 120, 40],\n",
              " [1, 20, 9, 30],\n",
              " [1, 72, 52, 53, 13, 10],\n",
              " [4, 121, 3, 122],\n",
              " [73, 3, 4, 34],\n",
              " [1, 6, 123],\n",
              " [12, 12, 12, 54],\n",
              " [14, 52, 53],\n",
              " [15, 23, 5, 124],\n",
              " [125, 3, 126, 1, 21],\n",
              " [15, 74, 127, 128, 75],\n",
              " [1, 18, 9, 4, 129, 55, 130],\n",
              " [29, 2, 24, 131],\n",
              " [2, 132, 133, 10, 134],\n",
              " [1, 24, 19, 135],\n",
              " [14, 23, 16, 5, 136],\n",
              " [32, 2, 137, 7, 76],\n",
              " [2, 138, 4, 139],\n",
              " [140, 3, 56, 13, 5, 77],\n",
              " [76, 41, 3, 141],\n",
              " [42, 8, 78],\n",
              " [29, 2, 21, 5, 34],\n",
              " [15, 74, 17, 29, 142],\n",
              " [15, 79, 26],\n",
              " [50, 57, 80, 5, 143, 43, 144],\n",
              " [145, 11, 146],\n",
              " [15, 3, 5, 35, 147],\n",
              " [72, 148, 9, 16, 51],\n",
              " [1, 44, 58],\n",
              " [27, 3, 33],\n",
              " [1, 6, 149, 59],\n",
              " [8, 40, 45, 2, 150, 151, 46, 68],\n",
              " [29, 2, 20, 9, 152, 16, 13, 43],\n",
              " [1, 24, 9, 60],\n",
              " [15, 25, 153, 154, 38],\n",
              " [31, 81, 47, 16],\n",
              " [1, 18, 155, 156],\n",
              " [2, 11, 157, 158, 55, 159],\n",
              " [1, 6, 82, 48, 19, 160],\n",
              " [8, 161, 2, 11, 17, 162],\n",
              " [39],\n",
              " [31, 163, 164],\n",
              " [83, 13, 4, 165, 22, 23, 5, 61, 48, 166],\n",
              " [10, 167, 3, 42],\n",
              " [1, 28, 168, 13, 58, 13, 84, 169],\n",
              " [14, 170, 85, 9, 171, 172],\n",
              " [7, 173, 3, 4, 18, 48, 7, 33],\n",
              " [1, 32, 174, 175],\n",
              " [7, 176, 3, 62, 177, 4, 86, 178, 16, 179],\n",
              " [14, 3, 4, 180, 181, 1, 21, 182, 183],\n",
              " [15, 3, 184],\n",
              " [1, 185, 7, 87],\n",
              " [1, 18, 2, 186],\n",
              " [42, 38],\n",
              " [187, 188, 2, 189, 45],\n",
              " [10, 190, 28, 80, 5, 30],\n",
              " [1, 18, 191, 27],\n",
              " [11, 2, 56, 13, 26, 10, 192],\n",
              " [10, 3, 40],\n",
              " [19, 193, 194, 88, 195],\n",
              " [1, 18, 7, 196],\n",
              " [29, 2, 20, 9, 197, 16, 5, 198],\n",
              " [10, 89, 28, 199],\n",
              " [1, 6, 90],\n",
              " [1, 44, 63],\n",
              " [36, 3, 200, 46, 2],\n",
              " [201, 11, 8, 202, 55, 203],\n",
              " [1, 6, 8, 204, 91, 19, 205, 9, 10, 206],\n",
              " [50, 207, 22],\n",
              " [1, 6, 208, 27],\n",
              " [209, 24, 5, 59, 210, 12, 12],\n",
              " [1, 6, 8, 92, 13, 2],\n",
              " [44, 2, 8, 211],\n",
              " [1, 18, 2],\n",
              " [10, 30, 3, 212, 16, 213],\n",
              " [2, 11, 17, 214, 13, 10, 215],\n",
              " [44, 2, 7, 216],\n",
              " [1, 20, 9, 93],\n",
              " [1, 6, 8, 90, 9, 94, 2, 217, 8, 95],\n",
              " [15, 3, 4, 218, 219],\n",
              " [36, 5, 59, 220],\n",
              " [7, 221, 222, 223],\n",
              " [31, 81, 47, 16],\n",
              " [58, 60, 3, 8, 224],\n",
              " [22, 3, 4, 225, 41, 226, 7, 33],\n",
              " [15, 3, 227],\n",
              " [88, 228, 79, 63],\n",
              " [14, 3, 229],\n",
              " [22, 28, 39, 54],\n",
              " [15, 3, 8, 64],\n",
              " [2, 25, 75, 65, 2, 230],\n",
              " [1, 231, 1, 32, 232, 233, 234],\n",
              " [66, 21, 27, 235],\n",
              " [96, 40, 45, 2, 236, 17, 237],\n",
              " [1, 20, 9, 37, 69],\n",
              " [2, 11, 5, 238],\n",
              " [1, 6, 239],\n",
              " [2, 240],\n",
              " [97],\n",
              " [2, 241, 17, 242, 22],\n",
              " [1, 71, 7, 243],\n",
              " [14, 25, 17, 98, 7, 244],\n",
              " [45, 245, 246],\n",
              " [94, 2, 47, 4, 77],\n",
              " [1, 247, 248],\n",
              " [1, 52, 53],\n",
              " [249, 3, 33],\n",
              " [4, 49, 99, 250],\n",
              " [4, 251, 252, 253, 23, 4, 34],\n",
              " [97, 65, 19, 254],\n",
              " [4, 255, 3, 96, 95],\n",
              " [54],\n",
              " [1, 23, 256, 91, 7, 257],\n",
              " [1, 20, 9, 93],\n",
              " [4, 258, 11, 42, 259],\n",
              " [2, 25, 17, 29, 19, 260],\n",
              " [4, 100, 3, 261],\n",
              " [83],\n",
              " [1, 262, 2],\n",
              " [1, 6, 263, 13, 5, 264],\n",
              " [73, 3, 4, 27],\n",
              " [2, 11, 265],\n",
              " [266, 267, 13, 43],\n",
              " [14, 3, 92],\n",
              " [1, 6, 268, 62],\n",
              " [10, 3, 8, 39],\n",
              " [2, 23, 5, 56, 269],\n",
              " [1, 20, 9, 21, 270, 13, 43],\n",
              " [14, 271, 5, 61],\n",
              " [4, 272, 273, 274, 51],\n",
              " [1, 23, 275],\n",
              " [276, 11, 35],\n",
              " [1, 277, 63],\n",
              " [1, 6, 278, 9, 4, 279],\n",
              " [1, 6, 280, 281],\n",
              " [1, 6, 82, 48, 2, 85],\n",
              " [10, 89, 3, 67, 46, 16],\n",
              " [282, 65, 4, 283, 38],\n",
              " [284, 19, 285],\n",
              " [37, 286],\n",
              " [1, 287, 288, 7, 289],\n",
              " [290, 291, 21, 5, 100],\n",
              " [1, 6, 292],\n",
              " [14, 3, 7, 293, 18],\n",
              " [14, 3, 8, 64],\n",
              " [1, 18, 87],\n",
              " [1, 25, 17, 21, 294],\n",
              " [7, 295, 99, 57, 5, 296, 297],\n",
              " [1, 24, 2, 5, 61],\n",
              " [15, 57, 9, 298, 5, 299, 300],\n",
              " [1, 6, 47, 4, 26, 49],\n",
              " [11, 2, 301, 12, 12],\n",
              " [1, 24, 9, 302],\n",
              " [31, 303, 10, 30, 12, 12, 12],\n",
              " [2, 84, 11, 64],\n",
              " [10, 304, 86, 3, 17, 62],\n",
              " [36, 2, 25, 28, 78],\n",
              " [7, 33, 3, 8, 305],\n",
              " [15, 25, 17, 98],\n",
              " [66, 70],\n",
              " [2, 306, 7, 41],\n",
              " [1, 32, 37, 101],\n",
              " [66, 307, 308, 41],\n",
              " [101, 46, 16],\n",
              " [14, 3, 5, 309],\n",
              " [14, 310, 26],\n",
              " [1, 24, 22, 311, 312, 60]]"
            ]
          },
          "metadata": {},
          "execution_count": 120
        }
      ]
    },
    {
      "cell_type": "markdown",
      "source": [
        "Finding out the maxlent of the sequences to pad all the remaining smaller sequences"
      ],
      "metadata": {
        "id": "pyuW7lsAHCma"
      }
    },
    {
      "cell_type": "code",
      "source": [
        "def max_len(value):\n",
        "  maxlen = 0\n",
        "  for i in value:\n",
        "    maxlen=max(maxlen,len(i))\n",
        "  return maxlen\n",
        "\n",
        "max_val = max_len(x_tokens)\n",
        "max_val"
      ],
      "metadata": {
        "colab": {
          "base_uri": "https://localhost:8080/"
        },
        "id": "xKVvvXO-z7AT",
        "outputId": "d45ad47a-6ec8-4c8c-c9ec-42c64605129f"
      },
      "execution_count": 121,
      "outputs": [
        {
          "output_type": "execute_result",
          "data": {
            "text/plain": [
              "10"
            ]
          },
          "metadata": {},
          "execution_count": 121
        }
      ]
    },
    {
      "cell_type": "markdown",
      "source": [
        "Padding the input to the max length to feed to out model"
      ],
      "metadata": {
        "id": "oqls5ZO3G8Wc"
      }
    },
    {
      "cell_type": "code",
      "source": [
        "x_train=pad_sequences(x_tokens,maxlen=max_val,padding='post',truncating='post')"
      ],
      "metadata": {
        "id": "aHz4FrZb2wdl"
      },
      "execution_count": 122,
      "outputs": []
    },
    {
      "cell_type": "code",
      "source": [
        "y_train = to_categorical(y) # Converting our int values to categorical"
      ],
      "metadata": {
        "id": "fnk2M65e8BS7"
      },
      "execution_count": 123,
      "outputs": []
    },
    {
      "cell_type": "code",
      "source": [
        "embed_size = 100\n",
        "embedding_matrix = np.zeros((len(word_index)+1, embed_size))\n",
        "\n",
        "for word, i in word_index.items():\n",
        "    embed_vector = embedding[word]\n",
        "    embedding_matrix[i] = embed_vector"
      ],
      "metadata": {
        "id": "IPBo_qc0CoJL"
      },
      "execution_count": 124,
      "outputs": []
    },
    {
      "cell_type": "markdown",
      "source": [
        "Model Training"
      ],
      "metadata": {
        "id": "rBB8EQerHUQT"
      }
    },
    {
      "cell_type": "code",
      "source": [
        "model = Sequential([\n",
        "    Embedding(input_dim = len(word_index) + 1,\n",
        "              output_dim = embed_size,\n",
        "              input_length = max_val,\n",
        "              weights = [embedding_matrix],\n",
        "              trainable = False\n",
        "             ),\n",
        "\n",
        "    LSTM(units = 16, return_sequences = True),\n",
        "    LSTM(units = 4),\n",
        "    Dense(5, activation = 'softmax')\n",
        "])\n",
        "\n",
        "model.compile(optimizer = 'adam', loss = 'categorical_crossentropy', metrics = ['accuracy'])"
      ],
      "metadata": {
        "id": "Io1cOfHJEmnS"
      },
      "execution_count": 126,
      "outputs": []
    },
    {
      "cell_type": "code",
      "source": [
        "model.fit(x_train, y_train, epochs = 100)\n"
      ],
      "metadata": {
        "colab": {
          "base_uri": "https://localhost:8080/"
        },
        "id": "pE4nsit_Eyak",
        "outputId": "20135537-3a8e-42bf-9b62-3621f0e7bea0"
      },
      "execution_count": 127,
      "outputs": [
        {
          "output_type": "stream",
          "name": "stdout",
          "text": [
            "Epoch 1/100\n",
            "6/6 [==============================] - 5s 17ms/step - loss: 1.6012 - accuracy: 0.2143\n",
            "Epoch 2/100\n",
            "6/6 [==============================] - 0s 16ms/step - loss: 1.5608 - accuracy: 0.3242\n",
            "Epoch 3/100\n",
            "6/6 [==============================] - 0s 14ms/step - loss: 1.5396 - accuracy: 0.3407\n",
            "Epoch 4/100\n",
            "6/6 [==============================] - 0s 12ms/step - loss: 1.5254 - accuracy: 0.3407\n",
            "Epoch 5/100\n",
            "6/6 [==============================] - 0s 13ms/step - loss: 1.5141 - accuracy: 0.3571\n",
            "Epoch 6/100\n",
            "6/6 [==============================] - 0s 13ms/step - loss: 1.5030 - accuracy: 0.3571\n",
            "Epoch 7/100\n",
            "6/6 [==============================] - 0s 13ms/step - loss: 1.4901 - accuracy: 0.3736\n",
            "Epoch 8/100\n",
            "6/6 [==============================] - 0s 13ms/step - loss: 1.4755 - accuracy: 0.3846\n",
            "Epoch 9/100\n",
            "6/6 [==============================] - 0s 15ms/step - loss: 1.4572 - accuracy: 0.4121\n",
            "Epoch 10/100\n",
            "6/6 [==============================] - 0s 13ms/step - loss: 1.4372 - accuracy: 0.4231\n",
            "Epoch 11/100\n",
            "6/6 [==============================] - 0s 13ms/step - loss: 1.4113 - accuracy: 0.4341\n",
            "Epoch 12/100\n",
            "6/6 [==============================] - 0s 13ms/step - loss: 1.3824 - accuracy: 0.4945\n",
            "Epoch 13/100\n",
            "6/6 [==============================] - 0s 14ms/step - loss: 1.3476 - accuracy: 0.5440\n",
            "Epoch 14/100\n",
            "6/6 [==============================] - 0s 15ms/step - loss: 1.3125 - accuracy: 0.5275\n",
            "Epoch 15/100\n",
            "6/6 [==============================] - 0s 13ms/step - loss: 1.2704 - accuracy: 0.6319\n",
            "Epoch 16/100\n",
            "6/6 [==============================] - 0s 13ms/step - loss: 1.2280 - accuracy: 0.6374\n",
            "Epoch 17/100\n",
            "6/6 [==============================] - 0s 13ms/step - loss: 1.1835 - accuracy: 0.6868\n",
            "Epoch 18/100\n",
            "6/6 [==============================] - 0s 14ms/step - loss: 1.1399 - accuracy: 0.6868\n",
            "Epoch 19/100\n",
            "6/6 [==============================] - 0s 13ms/step - loss: 1.1022 - accuracy: 0.7143\n",
            "Epoch 20/100\n",
            "6/6 [==============================] - 0s 15ms/step - loss: 1.0605 - accuracy: 0.7308\n",
            "Epoch 21/100\n",
            "6/6 [==============================] - 0s 17ms/step - loss: 1.0220 - accuracy: 0.7418\n",
            "Epoch 22/100\n",
            "6/6 [==============================] - 0s 16ms/step - loss: 0.9768 - accuracy: 0.7637\n",
            "Epoch 23/100\n",
            "6/6 [==============================] - 0s 17ms/step - loss: 0.9351 - accuracy: 0.7747\n",
            "Epoch 24/100\n",
            "6/6 [==============================] - 0s 16ms/step - loss: 0.8969 - accuracy: 0.7802\n",
            "Epoch 25/100\n",
            "6/6 [==============================] - 0s 18ms/step - loss: 0.8794 - accuracy: 0.7692\n",
            "Epoch 26/100\n",
            "6/6 [==============================] - 0s 17ms/step - loss: 0.8307 - accuracy: 0.7802\n",
            "Epoch 27/100\n",
            "6/6 [==============================] - 0s 14ms/step - loss: 0.7982 - accuracy: 0.8022\n",
            "Epoch 28/100\n",
            "6/6 [==============================] - 0s 9ms/step - loss: 0.7914 - accuracy: 0.7912\n",
            "Epoch 29/100\n",
            "6/6 [==============================] - 0s 9ms/step - loss: 0.7566 - accuracy: 0.7967\n",
            "Epoch 30/100\n",
            "6/6 [==============================] - 0s 10ms/step - loss: 0.7458 - accuracy: 0.7912\n",
            "Epoch 31/100\n",
            "6/6 [==============================] - 0s 9ms/step - loss: 0.7048 - accuracy: 0.8077\n",
            "Epoch 32/100\n",
            "6/6 [==============================] - 0s 9ms/step - loss: 0.7020 - accuracy: 0.7967\n",
            "Epoch 33/100\n",
            "6/6 [==============================] - 0s 9ms/step - loss: 0.6835 - accuracy: 0.8022\n",
            "Epoch 34/100\n",
            "6/6 [==============================] - 0s 9ms/step - loss: 0.6615 - accuracy: 0.8022\n",
            "Epoch 35/100\n",
            "6/6 [==============================] - 0s 8ms/step - loss: 0.6445 - accuracy: 0.8022\n",
            "Epoch 36/100\n",
            "6/6 [==============================] - 0s 9ms/step - loss: 0.6246 - accuracy: 0.8077\n",
            "Epoch 37/100\n",
            "6/6 [==============================] - 0s 9ms/step - loss: 0.6007 - accuracy: 0.8242\n",
            "Epoch 38/100\n",
            "6/6 [==============================] - 0s 9ms/step - loss: 0.5885 - accuracy: 0.8187\n",
            "Epoch 39/100\n",
            "6/6 [==============================] - 0s 9ms/step - loss: 0.5718 - accuracy: 0.8242\n",
            "Epoch 40/100\n",
            "6/6 [==============================] - 0s 9ms/step - loss: 0.5581 - accuracy: 0.8187\n",
            "Epoch 41/100\n",
            "6/6 [==============================] - 0s 9ms/step - loss: 0.5438 - accuracy: 0.8187\n",
            "Epoch 42/100\n",
            "6/6 [==============================] - 0s 9ms/step - loss: 0.5261 - accuracy: 0.8187\n",
            "Epoch 43/100\n",
            "6/6 [==============================] - 0s 8ms/step - loss: 0.5194 - accuracy: 0.8187\n",
            "Epoch 44/100\n",
            "6/6 [==============================] - 0s 10ms/step - loss: 0.5076 - accuracy: 0.8132\n",
            "Epoch 45/100\n",
            "6/6 [==============================] - 0s 9ms/step - loss: 0.4910 - accuracy: 0.8187\n",
            "Epoch 46/100\n",
            "6/6 [==============================] - 0s 9ms/step - loss: 0.4766 - accuracy: 0.8187\n",
            "Epoch 47/100\n",
            "6/6 [==============================] - 0s 9ms/step - loss: 0.4682 - accuracy: 0.8242\n",
            "Epoch 48/100\n",
            "6/6 [==============================] - 0s 9ms/step - loss: 0.4611 - accuracy: 0.8242\n",
            "Epoch 49/100\n",
            "6/6 [==============================] - 0s 9ms/step - loss: 0.4476 - accuracy: 0.8297\n",
            "Epoch 50/100\n",
            "6/6 [==============================] - 0s 8ms/step - loss: 0.4294 - accuracy: 0.8407\n",
            "Epoch 51/100\n",
            "6/6 [==============================] - 0s 8ms/step - loss: 0.4210 - accuracy: 0.8462\n",
            "Epoch 52/100\n",
            "6/6 [==============================] - 0s 8ms/step - loss: 0.4140 - accuracy: 0.8407\n",
            "Epoch 53/100\n",
            "6/6 [==============================] - 0s 8ms/step - loss: 0.4050 - accuracy: 0.8407\n",
            "Epoch 54/100\n",
            "6/6 [==============================] - 0s 8ms/step - loss: 0.4172 - accuracy: 0.8297\n",
            "Epoch 55/100\n",
            "6/6 [==============================] - 0s 8ms/step - loss: 0.4744 - accuracy: 0.8132\n",
            "Epoch 56/100\n",
            "6/6 [==============================] - 0s 9ms/step - loss: 0.3921 - accuracy: 0.8407\n",
            "Epoch 57/100\n",
            "6/6 [==============================] - 0s 9ms/step - loss: 0.3937 - accuracy: 0.8352\n",
            "Epoch 58/100\n",
            "6/6 [==============================] - 0s 8ms/step - loss: 0.3901 - accuracy: 0.8352\n",
            "Epoch 59/100\n",
            "6/6 [==============================] - 0s 11ms/step - loss: 0.3766 - accuracy: 0.8407\n",
            "Epoch 60/100\n",
            "6/6 [==============================] - 0s 8ms/step - loss: 0.3638 - accuracy: 0.8571\n",
            "Epoch 61/100\n",
            "6/6 [==============================] - 0s 9ms/step - loss: 0.3661 - accuracy: 0.8462\n",
            "Epoch 62/100\n",
            "6/6 [==============================] - 0s 9ms/step - loss: 0.3625 - accuracy: 0.8626\n",
            "Epoch 63/100\n",
            "6/6 [==============================] - 0s 8ms/step - loss: 0.3454 - accuracy: 0.9176\n",
            "Epoch 64/100\n",
            "6/6 [==============================] - 0s 9ms/step - loss: 0.3402 - accuracy: 0.9451\n",
            "Epoch 65/100\n",
            "6/6 [==============================] - 0s 9ms/step - loss: 0.3252 - accuracy: 0.9560\n",
            "Epoch 66/100\n",
            "6/6 [==============================] - 0s 9ms/step - loss: 0.3222 - accuracy: 0.9505\n",
            "Epoch 67/100\n",
            "6/6 [==============================] - 0s 9ms/step - loss: 0.3149 - accuracy: 0.9670\n",
            "Epoch 68/100\n",
            "6/6 [==============================] - 0s 9ms/step - loss: 0.3102 - accuracy: 0.9670\n",
            "Epoch 69/100\n",
            "6/6 [==============================] - 0s 8ms/step - loss: 0.3050 - accuracy: 0.9670\n",
            "Epoch 70/100\n",
            "6/6 [==============================] - 0s 8ms/step - loss: 0.3014 - accuracy: 0.9670\n",
            "Epoch 71/100\n",
            "6/6 [==============================] - 0s 9ms/step - loss: 0.2978 - accuracy: 0.9670\n",
            "Epoch 72/100\n",
            "6/6 [==============================] - 0s 9ms/step - loss: 0.2941 - accuracy: 0.9670\n",
            "Epoch 73/100\n",
            "6/6 [==============================] - 0s 8ms/step - loss: 0.2908 - accuracy: 0.9670\n",
            "Epoch 74/100\n",
            "6/6 [==============================] - 0s 8ms/step - loss: 0.2874 - accuracy: 0.9670\n",
            "Epoch 75/100\n",
            "6/6 [==============================] - 0s 8ms/step - loss: 0.2844 - accuracy: 0.9670\n",
            "Epoch 76/100\n",
            "6/6 [==============================] - 0s 11ms/step - loss: 0.2811 - accuracy: 0.9670\n",
            "Epoch 77/100\n",
            "6/6 [==============================] - 0s 9ms/step - loss: 0.2762 - accuracy: 0.9670\n",
            "Epoch 78/100\n",
            "6/6 [==============================] - 0s 9ms/step - loss: 0.2729 - accuracy: 0.9670\n",
            "Epoch 79/100\n",
            "6/6 [==============================] - 0s 8ms/step - loss: 0.2698 - accuracy: 0.9670\n",
            "Epoch 80/100\n",
            "6/6 [==============================] - 0s 8ms/step - loss: 0.2673 - accuracy: 0.9670\n",
            "Epoch 81/100\n",
            "6/6 [==============================] - 0s 8ms/step - loss: 0.2648 - accuracy: 0.9670\n",
            "Epoch 82/100\n",
            "6/6 [==============================] - 0s 9ms/step - loss: 0.2624 - accuracy: 0.9670\n",
            "Epoch 83/100\n",
            "6/6 [==============================] - 0s 9ms/step - loss: 0.2578 - accuracy: 0.9725\n",
            "Epoch 84/100\n",
            "6/6 [==============================] - 0s 8ms/step - loss: 0.2551 - accuracy: 0.9725\n",
            "Epoch 85/100\n",
            "6/6 [==============================] - 0s 10ms/step - loss: 0.2518 - accuracy: 0.9725\n",
            "Epoch 86/100\n",
            "6/6 [==============================] - 0s 8ms/step - loss: 0.2489 - accuracy: 0.9725\n",
            "Epoch 87/100\n",
            "6/6 [==============================] - 0s 8ms/step - loss: 0.2466 - accuracy: 0.9725\n",
            "Epoch 88/100\n",
            "6/6 [==============================] - 0s 10ms/step - loss: 0.2442 - accuracy: 0.9725\n",
            "Epoch 89/100\n",
            "6/6 [==============================] - 0s 10ms/step - loss: 0.2422 - accuracy: 0.9725\n",
            "Epoch 90/100\n",
            "6/6 [==============================] - 0s 9ms/step - loss: 0.2399 - accuracy: 0.9725\n",
            "Epoch 91/100\n",
            "6/6 [==============================] - 0s 9ms/step - loss: 0.2379 - accuracy: 0.9725\n",
            "Epoch 92/100\n",
            "6/6 [==============================] - 0s 12ms/step - loss: 0.2350 - accuracy: 0.9725\n",
            "Epoch 93/100\n",
            "6/6 [==============================] - 0s 9ms/step - loss: 0.2328 - accuracy: 0.9725\n",
            "Epoch 94/100\n",
            "6/6 [==============================] - 0s 9ms/step - loss: 0.2310 - accuracy: 0.9725\n",
            "Epoch 95/100\n",
            "6/6 [==============================] - 0s 10ms/step - loss: 0.2294 - accuracy: 0.9725\n",
            "Epoch 96/100\n",
            "6/6 [==============================] - 0s 9ms/step - loss: 0.2276 - accuracy: 0.9725\n",
            "Epoch 97/100\n",
            "6/6 [==============================] - 0s 10ms/step - loss: 0.2259 - accuracy: 0.9725\n",
            "Epoch 98/100\n",
            "6/6 [==============================] - 0s 8ms/step - loss: 0.2243 - accuracy: 0.9725\n",
            "Epoch 99/100\n",
            "6/6 [==============================] - 0s 9ms/step - loss: 0.2227 - accuracy: 0.9725\n",
            "Epoch 100/100\n",
            "6/6 [==============================] - 0s 8ms/step - loss: 0.2213 - accuracy: 0.9725\n"
          ]
        },
        {
          "output_type": "execute_result",
          "data": {
            "text/plain": [
              "<keras.src.callbacks.History at 0x7c80de242770>"
            ]
          },
          "metadata": {},
          "execution_count": 127
        }
      ]
    },
    {
      "cell_type": "markdown",
      "source": [
        "Making some predictions"
      ],
      "metadata": {
        "id": "jvmJ1-wTHX2C"
      }
    },
    {
      "cell_type": "code",
      "source": [
        "test = [\"I feel good\", \"I feel very bad\", \"lets eat dinner\"]\n",
        "\n",
        "test_seq = token.texts_to_sequences(test)\n",
        "Xtest = pad_sequences(test_seq, maxlen = max_val, padding = 'post', truncating = 'post')\n",
        "\n",
        "y_pred = model.predict(Xtest)\n",
        "y_pred = np.argmax(y_pred, axis = 1)\n",
        "\n",
        "for i in range(len(test)):\n",
        "    print(test[i], label_to_emoji(y_pred[i]))"
      ],
      "metadata": {
        "colab": {
          "base_uri": "https://localhost:8080/"
        },
        "id": "cOvRqA2xE-Ys",
        "outputId": "696d8eba-c0d4-4f55-ae42-62238ebf74b9"
      },
      "execution_count": 128,
      "outputs": [
        {
          "output_type": "stream",
          "name": "stdout",
          "text": [
            "1/1 [==============================] - 1s 822ms/step\n",
            "I feel good ❤️\n",
            "I feel very bad 😞\n",
            "lets eat dinner 🍽️\n"
          ]
        }
      ]
    },
    {
      "cell_type": "markdown",
      "source": [
        "Conclusion : Our Model is having 97% accuracy and predicting the emojis as expected"
      ],
      "metadata": {
        "id": "gJhg-U-hHcRY"
      }
    }
  ]
}